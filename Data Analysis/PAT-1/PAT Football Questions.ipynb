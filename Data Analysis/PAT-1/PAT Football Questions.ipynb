{
 "cells": [
  {
   "cell_type": "code",
   "execution_count": 2,
   "id": "0a3c9780",
   "metadata": {},
   "outputs": [],
   "source": [
    "import pandas as pd\n",
    "import numpy as np\n",
    "import seaborn as sns\n",
    "import matplotlib.pyplot as plt\n",
    "%matplotlib inline"
   ]
  },
  {
   "cell_type": "code",
   "execution_count": 3,
   "id": "553d4dc0",
   "metadata": {},
   "outputs": [],
   "source": [
    "pd.set_option('display.max_columns', None)"
   ]
  },
  {
   "cell_type": "code",
   "execution_count": 4,
   "id": "a72e9307",
   "metadata": {
    "scrolled": true
   },
   "outputs": [
    {
     "data": {
      "text/html": [
       "<div>\n",
       "<style scoped>\n",
       "    .dataframe tbody tr th:only-of-type {\n",
       "        vertical-align: middle;\n",
       "    }\n",
       "\n",
       "    .dataframe tbody tr th {\n",
       "        vertical-align: top;\n",
       "    }\n",
       "\n",
       "    .dataframe thead th {\n",
       "        text-align: right;\n",
       "    }\n",
       "</style>\n",
       "<table border=\"1\" class=\"dataframe\">\n",
       "  <thead>\n",
       "    <tr style=\"text-align: right;\">\n",
       "      <th></th>\n",
       "      <th>Country</th>\n",
       "      <th>League</th>\n",
       "      <th>Club</th>\n",
       "      <th>Player Names</th>\n",
       "      <th>Matches_Played</th>\n",
       "      <th>Substitution</th>\n",
       "      <th>Mins</th>\n",
       "      <th>Goals</th>\n",
       "      <th>xG</th>\n",
       "      <th>xG Per Avg Match</th>\n",
       "      <th>Shots</th>\n",
       "      <th>OnTarget</th>\n",
       "      <th>Shots Per Avg Match</th>\n",
       "      <th>On Target Per Avg Match</th>\n",
       "      <th>Year</th>\n",
       "    </tr>\n",
       "  </thead>\n",
       "  <tbody>\n",
       "    <tr>\n",
       "      <th>0</th>\n",
       "      <td>Spain</td>\n",
       "      <td>La Liga</td>\n",
       "      <td>(BET)</td>\n",
       "      <td>Juanmi Callejon</td>\n",
       "      <td>19</td>\n",
       "      <td>16</td>\n",
       "      <td>1849</td>\n",
       "      <td>11</td>\n",
       "      <td>6.62</td>\n",
       "      <td>0.34</td>\n",
       "      <td>48</td>\n",
       "      <td>20</td>\n",
       "      <td>2.47</td>\n",
       "      <td>1.03</td>\n",
       "      <td>2016</td>\n",
       "    </tr>\n",
       "    <tr>\n",
       "      <th>1</th>\n",
       "      <td>Spain</td>\n",
       "      <td>La Liga</td>\n",
       "      <td>(BAR)</td>\n",
       "      <td>Antoine Griezmann</td>\n",
       "      <td>36</td>\n",
       "      <td>0</td>\n",
       "      <td>3129</td>\n",
       "      <td>16</td>\n",
       "      <td>11.86</td>\n",
       "      <td>0.36</td>\n",
       "      <td>88</td>\n",
       "      <td>41</td>\n",
       "      <td>2.67</td>\n",
       "      <td>1.24</td>\n",
       "      <td>2016</td>\n",
       "    </tr>\n",
       "    <tr>\n",
       "      <th>2</th>\n",
       "      <td>Spain</td>\n",
       "      <td>La Liga</td>\n",
       "      <td>(ATL)</td>\n",
       "      <td>Luis Suarez</td>\n",
       "      <td>34</td>\n",
       "      <td>1</td>\n",
       "      <td>2940</td>\n",
       "      <td>28</td>\n",
       "      <td>23.21</td>\n",
       "      <td>0.75</td>\n",
       "      <td>120</td>\n",
       "      <td>57</td>\n",
       "      <td>3.88</td>\n",
       "      <td>1.84</td>\n",
       "      <td>2016</td>\n",
       "    </tr>\n",
       "    <tr>\n",
       "      <th>3</th>\n",
       "      <td>Spain</td>\n",
       "      <td>La Liga</td>\n",
       "      <td>(CAR)</td>\n",
       "      <td>Ruben Castro</td>\n",
       "      <td>32</td>\n",
       "      <td>3</td>\n",
       "      <td>2842</td>\n",
       "      <td>13</td>\n",
       "      <td>14.06</td>\n",
       "      <td>0.47</td>\n",
       "      <td>117</td>\n",
       "      <td>42</td>\n",
       "      <td>3.91</td>\n",
       "      <td>1.40</td>\n",
       "      <td>2016</td>\n",
       "    </tr>\n",
       "    <tr>\n",
       "      <th>4</th>\n",
       "      <td>Spain</td>\n",
       "      <td>La Liga</td>\n",
       "      <td>(VAL)</td>\n",
       "      <td>Kevin Gameiro</td>\n",
       "      <td>21</td>\n",
       "      <td>10</td>\n",
       "      <td>1745</td>\n",
       "      <td>13</td>\n",
       "      <td>10.65</td>\n",
       "      <td>0.58</td>\n",
       "      <td>50</td>\n",
       "      <td>23</td>\n",
       "      <td>2.72</td>\n",
       "      <td>1.25</td>\n",
       "      <td>2016</td>\n",
       "    </tr>\n",
       "  </tbody>\n",
       "</table>\n",
       "</div>"
      ],
      "text/plain": [
       "  Country   League   Club       Player Names  Matches_Played  Substitution   \\\n",
       "0   Spain  La Liga  (BET)    Juanmi Callejon              19             16   \n",
       "1   Spain  La Liga  (BAR)  Antoine Griezmann              36              0   \n",
       "2   Spain  La Liga  (ATL)        Luis Suarez              34              1   \n",
       "3   Spain  La Liga  (CAR)       Ruben Castro              32              3   \n",
       "4   Spain  La Liga  (VAL)      Kevin Gameiro              21             10   \n",
       "\n",
       "   Mins  Goals     xG  xG Per Avg Match  Shots  OnTarget  Shots Per Avg Match  \\\n",
       "0  1849     11   6.62              0.34     48        20                 2.47   \n",
       "1  3129     16  11.86              0.36     88        41                 2.67   \n",
       "2  2940     28  23.21              0.75    120        57                 3.88   \n",
       "3  2842     13  14.06              0.47    117        42                 3.91   \n",
       "4  1745     13  10.65              0.58     50        23                 2.72   \n",
       "\n",
       "   On Target Per Avg Match  Year  \n",
       "0                     1.03  2016  \n",
       "1                     1.24  2016  \n",
       "2                     1.84  2016  \n",
       "3                     1.40  2016  \n",
       "4                     1.25  2016  "
      ]
     },
     "execution_count": 4,
     "metadata": {},
     "output_type": "execute_result"
    }
   ],
   "source": [
    "df=pd.read_csv('soccer.csv')\n",
    "df.head()"
   ]
  },
  {
   "cell_type": "code",
   "execution_count": 5,
   "id": "2f09f1cb",
   "metadata": {},
   "outputs": [
    {
     "data": {
      "text/plain": [
       "(660, 15)"
      ]
     },
     "execution_count": 5,
     "metadata": {},
     "output_type": "execute_result"
    }
   ],
   "source": [
    "df.shape"
   ]
  },
  {
   "cell_type": "code",
   "execution_count": null,
   "id": "63507e7d",
   "metadata": {},
   "outputs": [],
   "source": []
  },
  {
   "cell_type": "markdown",
   "id": "04b22d3a",
   "metadata": {},
   "source": [
    "# Q1: What is the total number of goals scored in the entire dataset?\n",
    "\n",
    "\n"
   ]
  },
  {
   "cell_type": "code",
   "execution_count": null,
   "id": "d896e0e2",
   "metadata": {},
   "outputs": [],
   "source": []
  },
  {
   "cell_type": "code",
   "execution_count": null,
   "id": "841615b5",
   "metadata": {},
   "outputs": [],
   "source": []
  },
  {
   "cell_type": "markdown",
   "id": "f22670e9",
   "metadata": {},
   "source": [
    "# Q2: Which player has scored the most goals as a substitution"
   ]
  },
  {
   "cell_type": "code",
   "execution_count": null,
   "id": "ae361292",
   "metadata": {},
   "outputs": [],
   "source": []
  },
  {
   "cell_type": "code",
   "execution_count": null,
   "id": "47b5c7de",
   "metadata": {},
   "outputs": [],
   "source": []
  },
  {
   "cell_type": "markdown",
   "id": "9ddbd80d",
   "metadata": {},
   "source": [
    "# Q3: Find the top 5 players with the most number of goals scored. Also find the total number of goals scored by them"
   ]
  },
  {
   "cell_type": "code",
   "execution_count": null,
   "id": "2795512b",
   "metadata": {},
   "outputs": [],
   "source": []
  },
  {
   "cell_type": "code",
   "execution_count": null,
   "id": "c5bb3bbd",
   "metadata": {},
   "outputs": [],
   "source": []
  },
  {
   "cell_type": "markdown",
   "id": "31e7f2d0",
   "metadata": {},
   "source": [
    "# Q4: What are the top 10 countries with the most number of players in the dataset?"
   ]
  },
  {
   "cell_type": "code",
   "execution_count": null,
   "id": "3681cad9",
   "metadata": {},
   "outputs": [],
   "source": []
  },
  {
   "cell_type": "code",
   "execution_count": null,
   "id": "9909306c",
   "metadata": {},
   "outputs": [],
   "source": []
  },
  {
   "cell_type": "markdown",
   "id": "8c0145b8",
   "metadata": {},
   "source": [
    "# Q5: # Q1. Create a new dataframe after removing the ourliers for Mins Column in the dataset (conside the upper quantile to be 99 percentile and the lower quantile to be 1 percentile.). After that Find the difference in the number of rows?\n",
    "\n",
    "* Difference is df.shape(only rows) - df.shape(rows of filtered data only)"
   ]
  },
  {
   "cell_type": "code",
   "execution_count": null,
   "id": "b2025a47",
   "metadata": {},
   "outputs": [],
   "source": []
  },
  {
   "cell_type": "code",
   "execution_count": null,
   "id": "8d99a560",
   "metadata": {},
   "outputs": [],
   "source": []
  },
  {
   "cell_type": "markdown",
   "id": "0f585553",
   "metadata": {},
   "source": [
    "# Q6: Which top 5 players have scored the maximum number of goals throughout all the years? Display them in descending order"
   ]
  },
  {
   "cell_type": "code",
   "execution_count": null,
   "id": "e882bf65",
   "metadata": {},
   "outputs": [],
   "source": []
  },
  {
   "cell_type": "code",
   "execution_count": null,
   "id": "1296a131",
   "metadata": {},
   "outputs": [],
   "source": []
  },
  {
   "cell_type": "markdown",
   "id": "bdeed0f8",
   "metadata": {},
   "source": [
    "# Q7. Using Bar Plot show in which year has Cristiano Ronaldo scored the most number of goals?"
   ]
  },
  {
   "cell_type": "code",
   "execution_count": null,
   "id": "85790f26",
   "metadata": {},
   "outputs": [],
   "source": []
  },
  {
   "cell_type": "code",
   "execution_count": null,
   "id": "f472dd34",
   "metadata": {},
   "outputs": [],
   "source": []
  },
  {
   "cell_type": "markdown",
   "id": "219298ee",
   "metadata": {},
   "source": [
    "# Q8. In the year 2019 who has more Goals between Ronaldo and Messi? \n",
    "- First print them normally \n",
    "- Display the comparison using a bar plot"
   ]
  },
  {
   "cell_type": "code",
   "execution_count": null,
   "id": "5c417e25",
   "metadata": {},
   "outputs": [],
   "source": []
  },
  {
   "cell_type": "code",
   "execution_count": null,
   "id": "b760360b",
   "metadata": {},
   "outputs": [],
   "source": []
  },
  {
   "cell_type": "markdown",
   "id": "c3e2f5d8",
   "metadata": {},
   "source": [
    "# Q9: Using Pie Chart show the amount of data various Countries are containing in this dataset(use the Country Columns Display the percentage of data as well in the pie chart"
   ]
  },
  {
   "cell_type": "code",
   "execution_count": null,
   "id": "7d234400",
   "metadata": {},
   "outputs": [],
   "source": []
  },
  {
   "cell_type": "code",
   "execution_count": null,
   "id": "23bb15e5",
   "metadata": {},
   "outputs": [],
   "source": []
  },
  {
   "cell_type": "markdown",
   "id": "0d8f8d37",
   "metadata": {},
   "source": [
    "# Q10: Display a Heatmap  to show the correlation between the columns in the dataset. The heatmap should have the value of the correlation printed within the boxes."
   ]
  },
  {
   "cell_type": "code",
   "execution_count": null,
   "id": "61e46fe6",
   "metadata": {},
   "outputs": [],
   "source": []
  },
  {
   "cell_type": "code",
   "execution_count": null,
   "id": "4a236041",
   "metadata": {},
   "outputs": [],
   "source": []
  },
  {
   "cell_type": "markdown",
   "id": "f87975fb",
   "metadata": {},
   "source": [
    "# Q11: Which Country has the maximum median OnTarget Shots among all the Countries in the year 2020?"
   ]
  },
  {
   "cell_type": "code",
   "execution_count": null,
   "id": "6663991c",
   "metadata": {},
   "outputs": [],
   "source": []
  },
  {
   "cell_type": "code",
   "execution_count": null,
   "id": "310f091a",
   "metadata": {},
   "outputs": [],
   "source": []
  },
  {
   "cell_type": "markdown",
   "id": "5f69be41",
   "metadata": {},
   "source": [
    "# Q12. Who has the best average  Goals per minute?\n",
    "* Consider only those players who have played more than 30 games\n",
    "* Then Find Goals per minute\n",
    "* Find Mean of Goals per minute and sort the values"
   ]
  },
  {
   "cell_type": "code",
   "execution_count": null,
   "id": "cedf79a7",
   "metadata": {},
   "outputs": [],
   "source": []
  },
  {
   "cell_type": "code",
   "execution_count": null,
   "id": "06af824a",
   "metadata": {},
   "outputs": [],
   "source": []
  },
  {
   "cell_type": "markdown",
   "id": "7a2ce78e",
   "metadata": {},
   "source": [
    "# Q 13. Which Player has the least and most number of missed shots in the dataset?\n",
    "* Missed Shots=Shots-On Target"
   ]
  },
  {
   "cell_type": "code",
   "execution_count": null,
   "id": "73508b39",
   "metadata": {},
   "outputs": [],
   "source": []
  },
  {
   "cell_type": "code",
   "execution_count": null,
   "id": "2037d7e2",
   "metadata": {},
   "outputs": [],
   "source": []
  },
  {
   "cell_type": "markdown",
   "id": "f66c59df",
   "metadata": {},
   "source": [
    "# Q14: How many countries have had players who played more than 35 matches? Create a bar plot to display the count for each country."
   ]
  },
  {
   "cell_type": "code",
   "execution_count": null,
   "id": "e7d9277b",
   "metadata": {},
   "outputs": [],
   "source": []
  },
  {
   "cell_type": "code",
   "execution_count": null,
   "id": "889ba941",
   "metadata": {},
   "outputs": [],
   "source": []
  },
  {
   "cell_type": "markdown",
   "id": "b496d3ed",
   "metadata": {},
   "source": [
    "# Q15: Draw a Line Chart to show the comparison of the top 5 highest scoring players in the dataset throughout the years(2016-2020)"
   ]
  },
  {
   "cell_type": "code",
   "execution_count": null,
   "id": "fac7d0b1",
   "metadata": {},
   "outputs": [],
   "source": []
  },
  {
   "cell_type": "code",
   "execution_count": null,
   "id": "a58fb8a4",
   "metadata": {},
   "outputs": [],
   "source": []
  },
  {
   "cell_type": "code",
   "execution_count": null,
   "id": "2761e9ae",
   "metadata": {},
   "outputs": [],
   "source": []
  },
  {
   "cell_type": "code",
   "execution_count": null,
   "id": "f823e1a9",
   "metadata": {},
   "outputs": [],
   "source": []
  },
  {
   "cell_type": "code",
   "execution_count": null,
   "id": "8f32b415",
   "metadata": {},
   "outputs": [],
   "source": []
  },
  {
   "cell_type": "code",
   "execution_count": null,
   "id": "ea9cfa41",
   "metadata": {},
   "outputs": [],
   "source": []
  }
 ],
 "metadata": {
  "kernelspec": {
   "display_name": "Python 3 (ipykernel)",
   "language": "python",
   "name": "python3"
  },
  "language_info": {
   "codemirror_mode": {
    "name": "ipython",
    "version": 3
   },
   "file_extension": ".py",
   "mimetype": "text/x-python",
   "name": "python",
   "nbconvert_exporter": "python",
   "pygments_lexer": "ipython3",
   "version": "3.10.9"
  }
 },
 "nbformat": 4,
 "nbformat_minor": 5
}
