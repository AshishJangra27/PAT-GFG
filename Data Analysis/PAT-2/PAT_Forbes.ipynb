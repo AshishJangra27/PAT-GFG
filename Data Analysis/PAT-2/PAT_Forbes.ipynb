{
 "cells": [
  {
   "cell_type": "code",
   "execution_count": 1,
   "id": "bc2fa41e",
   "metadata": {},
   "outputs": [],
   "source": [
    "import pandas as pd\n",
    "import numpy as np\n",
    "import matplotlib.pyplot as plt\n",
    "import seaborn as sns"
   ]
  },
  {
   "cell_type": "code",
   "execution_count": 2,
   "id": "19a667f1",
   "metadata": {},
   "outputs": [],
   "source": [
    "df = pd.read_csv('PAT_FINAL.csv')"
   ]
  },
  {
   "cell_type": "code",
   "execution_count": 3,
   "id": "1cd040d3",
   "metadata": {},
   "outputs": [
    {
     "data": {
      "text/html": [
       "<div>\n",
       "<style scoped>\n",
       "    .dataframe tbody tr th:only-of-type {\n",
       "        vertical-align: middle;\n",
       "    }\n",
       "\n",
       "    .dataframe tbody tr th {\n",
       "        vertical-align: top;\n",
       "    }\n",
       "\n",
       "    .dataframe thead th {\n",
       "        text-align: right;\n",
       "    }\n",
       "</style>\n",
       "<table border=\"1\" class=\"dataframe\">\n",
       "  <thead>\n",
       "    <tr style=\"text-align: right;\">\n",
       "      <th></th>\n",
       "      <th>Name</th>\n",
       "      <th>Age</th>\n",
       "      <th>Net_Worth</th>\n",
       "      <th>Income Source</th>\n",
       "      <th>Citizenship</th>\n",
       "    </tr>\n",
       "  </thead>\n",
       "  <tbody>\n",
       "    <tr>\n",
       "      <th>0</th>\n",
       "      <td>Paul Saville</td>\n",
       "      <td>66.0</td>\n",
       "      <td>$1.6 B</td>\n",
       "      <td>Real Estate</td>\n",
       "      <td>United States</td>\n",
       "    </tr>\n",
       "    <tr>\n",
       "      <th>1</th>\n",
       "      <td>Georg Haub</td>\n",
       "      <td>60.0</td>\n",
       "      <td>$2.2 B</td>\n",
       "      <td>Fashion &amp; Retail</td>\n",
       "      <td>Germany</td>\n",
       "    </tr>\n",
       "    <tr>\n",
       "      <th>2</th>\n",
       "      <td>Arvind Tiku</td>\n",
       "      <td>52.0</td>\n",
       "      <td>$2.2 B</td>\n",
       "      <td>Energy</td>\n",
       "      <td>India</td>\n",
       "    </tr>\n",
       "    <tr>\n",
       "      <th>3</th>\n",
       "      <td>Bill Gross</td>\n",
       "      <td>77.0</td>\n",
       "      <td>$1.6 B</td>\n",
       "      <td>Finance &amp; Investments</td>\n",
       "      <td>United States</td>\n",
       "    </tr>\n",
       "    <tr>\n",
       "      <th>4</th>\n",
       "      <td>Hartono Kweefanus</td>\n",
       "      <td>72.0</td>\n",
       "      <td>$1.2 B</td>\n",
       "      <td>Food &amp; Beverage</td>\n",
       "      <td>Indonesia</td>\n",
       "    </tr>\n",
       "  </tbody>\n",
       "</table>\n",
       "</div>"
      ],
      "text/plain": [
       "                 Name   Age Net_Worth           Income Source    Citizenship\n",
       "0       Paul Saville   66.0    $1.6 B            Real Estate   United States\n",
       "1         Georg Haub   60.0    $2.2 B       Fashion & Retail         Germany\n",
       "2        Arvind Tiku   52.0    $2.2 B                 Energy           India\n",
       "3         Bill Gross   77.0    $1.6 B  Finance & Investments   United States\n",
       "4  Hartono Kweefanus   72.0    $1.2 B        Food & Beverage       Indonesia"
      ]
     },
     "execution_count": 3,
     "metadata": {},
     "output_type": "execute_result"
    }
   ],
   "source": [
    "df.head()"
   ]
  },
  {
   "cell_type": "markdown",
   "id": "fbbe9dbe",
   "metadata": {},
   "source": [
    "# Q1: Which is the 8th country that has produced maximum number of billionaires?"
   ]
  },
  {
   "cell_type": "code",
   "execution_count": null,
   "id": "e50516c2",
   "metadata": {},
   "outputs": [],
   "source": []
  },
  {
   "cell_type": "markdown",
   "id": "ad9018b6",
   "metadata": {},
   "source": [
    "# Q2: How many Duplicate Values are present in the Dataframe\n",
    "* Find Duplicate using Name"
   ]
  },
  {
   "cell_type": "code",
   "execution_count": null,
   "id": "093513ce",
   "metadata": {},
   "outputs": [],
   "source": []
  },
  {
   "cell_type": "markdown",
   "id": "40630197",
   "metadata": {},
   "source": [
    "# Q3: Which is the industry with the highest and Lowest average net worth for billionaires in the Forbes dataset?\n",
    "* Industry here refers to Income Source \n",
    "* Check for type mismatch errors before finding mean \n",
    "* You have to find the mean of all the similar Income Sources and find the highest among them and then lowest among them"
   ]
  },
  {
   "cell_type": "code",
   "execution_count": null,
   "id": "e8de7546",
   "metadata": {},
   "outputs": [],
   "source": []
  },
  {
   "cell_type": "markdown",
   "id": "8d06cc00",
   "metadata": {},
   "source": [
    "# Q4: What is the distribution of the age of billionaires in the dataset? (Medium)\n",
    "* PreProcess the Age column first either drop all the values that are not required or convert them to NAN {This is a very important step will be used in further questions as well} "
   ]
  },
  {
   "cell_type": "code",
   "execution_count": null,
   "id": "82ce4d95",
   "metadata": {},
   "outputs": [],
   "source": []
  },
  {
   "cell_type": "markdown",
   "id": "0dce228c",
   "metadata": {},
   "source": [
    "# Q5: Who is the 10th Richest Indian Billionaire  (Medium)\n",
    "* Drop the Duplicate Values using Name then proceed further"
   ]
  },
  {
   "cell_type": "code",
   "execution_count": null,
   "id": "0ef8fce2",
   "metadata": {},
   "outputs": [],
   "source": []
  },
  {
   "cell_type": "markdown",
   "id": "dea54b30",
   "metadata": {},
   "source": [
    "# Q6: What is the average net worth of billionaires in the technology industry?\n",
    "* Only find for billionaires having single Income Source \n",
    "* Dont consider billionaires having more than 1 Income Source"
   ]
  },
  {
   "cell_type": "code",
   "execution_count": null,
   "id": "51f80e6d",
   "metadata": {},
   "outputs": [],
   "source": []
  },
  {
   "cell_type": "markdown",
   "id": "8b695351",
   "metadata": {},
   "source": [
    "# Q7: What is the position of the 10th Richest Billionaire from Tech Industry in the Forbes List (Medium)\n",
    "* Create an Index showing the rank according to Net Worth (Sort then create index column)\n",
    "* Then Proceed further with Technology as Income Source"
   ]
  },
  {
   "cell_type": "code",
   "execution_count": null,
   "id": "14c01426",
   "metadata": {},
   "outputs": [],
   "source": []
  },
  {
   "cell_type": "markdown",
   "id": "1e019c3a",
   "metadata": {},
   "source": [
    "# Q8: What is the total net worth of the top 100 billionaires in the Forbes dataset, and what percentage of the total net worth of all billionaires does this represent?\n",
    "* Find Net Worth held by top 100 People\n",
    "* Then find the percentage of the answer with the total net worth"
   ]
  },
  {
   "cell_type": "code",
   "execution_count": null,
   "id": "f197da6e",
   "metadata": {},
   "outputs": [],
   "source": []
  },
  {
   "cell_type": "markdown",
   "id": "3fedde16",
   "metadata": {},
   "source": [
    "# Q9: What is the average age of billionaires in the Technology industry? "
   ]
  },
  {
   "cell_type": "code",
   "execution_count": null,
   "id": "1ca77395",
   "metadata": {},
   "outputs": [],
   "source": []
  },
  {
   "cell_type": "markdown",
   "id": "eb28ffaf",
   "metadata": {},
   "source": [
    "# Q10: Draw a Graph depicting mean Net Worth of billionaires per Country(Medium)\n",
    "* For some people Education has been written in Citizenship Column find those and change there citizenship to India\n",
    "* After doing  it plot the graph"
   ]
  },
  {
   "cell_type": "code",
   "execution_count": null,
   "id": "041fa98c",
   "metadata": {},
   "outputs": [],
   "source": []
  },
  {
   "cell_type": "markdown",
   "id": "51141ed3",
   "metadata": {},
   "source": [
    "# Q11: Top 5 industries that has the most billionaires?"
   ]
  },
  {
   "cell_type": "code",
   "execution_count": null,
   "id": "ce642e4d",
   "metadata": {},
   "outputs": [],
   "source": []
  },
  {
   "cell_type": "markdown",
   "id": "28efc5cd",
   "metadata": {},
   "source": [
    "# Q12: Create a Violinplot that shows the distribution of Net Worths(Greater than 50B) across different Industries"
   ]
  },
  {
   "cell_type": "code",
   "execution_count": null,
   "id": "730d46d8",
   "metadata": {},
   "outputs": [],
   "source": []
  },
  {
   "cell_type": "markdown",
   "id": "66bf97e3",
   "metadata": {},
   "source": [
    "# Q13: Create a Heatmap that shows the correlation between age and net worth for billionaires in the technology industry?"
   ]
  },
  {
   "cell_type": "code",
   "execution_count": null,
   "id": "298325af",
   "metadata": {},
   "outputs": [],
   "source": []
  },
  {
   "cell_type": "markdown",
   "id": "815c9b10",
   "metadata": {},
   "source": [
    "# Q14: What is the relationship between the age and net worth of billionaires from the top 10 countries? Create a scatter plot matrix to visualize it."
   ]
  },
  {
   "cell_type": "code",
   "execution_count": null,
   "id": "531d8617",
   "metadata": {},
   "outputs": [],
   "source": []
  },
  {
   "cell_type": "markdown",
   "id": "9fab58b6",
   "metadata": {},
   "source": [
    "# Q15: What is the average age of billionaires in the USA? How does it compare to the average age of billionaires in other countries? \n",
    "* Find Mean of Age when Citizenship == USA\n",
    "* Find Mean of Age when Citizenship is not equal to USA(All other countries other than USA)"
   ]
  },
  {
   "cell_type": "code",
   "execution_count": null,
   "id": "77a99442",
   "metadata": {},
   "outputs": [],
   "source": []
  }
 ],
 "metadata": {
  "kernelspec": {
   "display_name": "Python 3 (ipykernel)",
   "language": "python",
   "name": "python3"
  },
  "language_info": {
   "codemirror_mode": {
    "name": "ipython",
    "version": 3
   },
   "file_extension": ".py",
   "mimetype": "text/x-python",
   "name": "python",
   "nbconvert_exporter": "python",
   "pygments_lexer": "ipython3",
   "version": "3.10.9"
  }
 },
 "nbformat": 4,
 "nbformat_minor": 5
}
